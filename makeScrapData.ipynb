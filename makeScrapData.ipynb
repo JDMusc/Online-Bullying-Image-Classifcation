{
 "cells": [
  {
   "cell_type": "code",
   "execution_count": 8,
   "metadata": {},
   "outputs": [],
   "source": [
    "from importlib import reload\n",
    "import os\n",
    "from toolz import pipe as p\n",
    "\n",
    "import scrapDataHelpers"
   ]
  },
  {
   "cell_type": "code",
   "execution_count": 9,
   "metadata": {},
   "outputs": [
    {
     "name": "stdout",
     "output_type": "stream",
     "text": [
      "\u001b[0m\u001b[01;34mgossiping\u001b[0m/  \u001b[01;34mlaughing\u001b[0m/     \u001b[01;34mpullinghair\u001b[0m/  \u001b[01;34mquarrel\u001b[0m/   \u001b[01;34mstabbing\u001b[0m/\r\n",
      "\u001b[01;34misolation\u001b[0m/  \u001b[01;34mnonbullying\u001b[0m/  \u001b[01;34mpunching\u001b[0m/     \u001b[01;34mslapping\u001b[0m/  \u001b[01;34mstrangle\u001b[0m/\r\n"
     ]
    }
   ],
   "source": [
    "ls image_data/"
   ]
  },
  {
   "cell_type": "code",
   "execution_count": 10,
   "metadata": {},
   "outputs": [],
   "source": [
    "reload(scrapDataHelpers)\n",
    "\n",
    "classes = ('laughing', 'pullinghair')\n",
    "scrapDataHelpers.makeScrapData(classes, n_train=50, n_val=20)"
   ]
  },
  {
   "cell_type": "code",
   "execution_count": 12,
   "metadata": {},
   "outputs": [
    {
     "name": "stdout",
     "output_type": "stream",
     "text": [
      "22\n",
      "28\n",
      "7\n",
      "13\n"
     ]
    }
   ],
   "source": [
    "printFileCount = lambda d: p(d, os.listdir, len, print)\n",
    "\n",
    "printFileCount('scrap_data/train/laughing/')\n",
    "printFileCount('scrap_data/train/pullinghair/')\n",
    "\n",
    "printFileCount('scrap_data/val/laughing/')\n",
    "printFileCount('scrap_data/val/pullinghair/')"
   ]
  },
  {
   "cell_type": "code",
   "execution_count": null,
   "metadata": {},
   "outputs": [],
   "source": []
  }
 ],
 "metadata": {
  "kernelspec": {
   "display_name": "Python 3",
   "language": "python",
   "name": "python3"
  },
  "language_info": {
   "codemirror_mode": {
    "name": "ipython",
    "version": 3
   },
   "file_extension": ".py",
   "mimetype": "text/x-python",
   "name": "python",
   "nbconvert_exporter": "python",
   "pygments_lexer": "ipython3",
   "version": "3.6.5"
  }
 },
 "nbformat": 4,
 "nbformat_minor": 2
}
