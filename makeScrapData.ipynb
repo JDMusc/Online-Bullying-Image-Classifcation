{
 "cells": [
  {
   "cell_type": "code",
   "execution_count": 65,
   "metadata": {},
   "outputs": [],
   "source": [
    "from importlib import reload\n",
    "import os\n",
    "from toolz import pipe as p\n",
    "\n",
    "import scrapDataHelpers"
   ]
  },
  {
   "cell_type": "code",
   "execution_count": 53,
   "metadata": {},
   "outputs": [
    {
     "name": "stdout",
     "output_type": "stream",
     "text": [
      "\u001b[0m\u001b[01;34mgossiping\u001b[0m/  \u001b[01;34mlaughing\u001b[0m/     \u001b[01;34mpullinghair\u001b[0m/  \u001b[01;34mquarrel\u001b[0m/   \u001b[01;34mstabbing\u001b[0m/\r\n",
      "\u001b[01;34misolation\u001b[0m/  \u001b[01;34mnonbullying\u001b[0m/  \u001b[01;34mpunching\u001b[0m/     \u001b[01;34mslapping\u001b[0m/  \u001b[01;34mstrangle\u001b[0m/\r\n"
     ]
    }
   ],
   "source": [
    "ls image_data/"
   ]
  },
  {
   "cell_type": "code",
   "execution_count": 58,
   "metadata": {},
   "outputs": [],
   "source": [
    "len([f for d in os.listdir('image_data') for \n",
    "     f in p(os.path.join('image_data', d), os.listdir)])\n",
    "\n",
    "n_train = 1500\n",
    "n_val = 400\n",
    "\n",
    "dest_dir = 'scrap_data' + str(n_train)"
   ]
  },
  {
   "cell_type": "code",
   "execution_count": 66,
   "metadata": {},
   "outputs": [
    {
     "data": {
      "text/plain": [
       "<module 'scrapDataHelpers' from '/home/john/projects/dl/scrapDataHelpers.py'>"
      ]
     },
     "execution_count": 66,
     "metadata": {},
     "output_type": "execute_result"
    }
   ],
   "source": [
    "reload(scrapDataHelpers)"
   ]
  },
  {
   "cell_type": "code",
   "execution_count": 56,
   "metadata": {},
   "outputs": [],
   "source": [
    "classes = os.listdir('image_data')\n",
    "scrapDataHelpers.makeScrapData(classes, n_train=n_train, n_val=n_val)"
   ]
  },
  {
   "cell_type": "code",
   "execution_count": 76,
   "metadata": {},
   "outputs": [
    {
     "data": {
      "text/plain": [
       "{('train', 'strangle'): 14.333333333333334,\n",
       " ('val', 'strangle'): 15.0,\n",
       " ('train', 'quarrel'): 9.533333333333333,\n",
       " ('val', 'quarrel'): 10.75,\n",
       " ('train', 'gossiping'): 16.2,\n",
       " ('val', 'gossiping'): 16.25,\n",
       " ('train', 'pullinghair'): 10.733333333333334,\n",
       " ('val', 'pullinghair'): 10.5,\n",
       " ('train', 'nonbullying'): 3.8,\n",
       " ('val', 'nonbullying'): 5.25,\n",
       " ('train', 'isolation'): 10.2,\n",
       " ('val', 'isolation'): 8.5,\n",
       " ('train', 'slapping'): 7.866666666666666,\n",
       " ('val', 'slapping'): 9.5,\n",
       " ('train', 'laughing'): 7.066666666666667,\n",
       " ('val', 'laughing'): 3.5000000000000004,\n",
       " ('train', 'punching'): 14.466666666666667,\n",
       " ('val', 'punching'): 15.25,\n",
       " ('train', 'stabbing'): 5.800000000000001,\n",
       " ('val', 'stabbing'): 5.5}"
      ]
     },
     "execution_count": 76,
     "metadata": {},
     "output_type": "execute_result"
    }
   ],
   "source": [
    "scrapDataHelpers.classPercentages(dest_dir)"
   ]
  },
  {
   "cell_type": "markdown",
   "metadata": {},
   "source": [
    "# Just try 2 classes"
   ]
  },
  {
   "cell_type": "code",
   "execution_count": 78,
   "metadata": {},
   "outputs": [],
   "source": [
    "scrapDataHelpers.makeScrapData(['laughing', 'punching'], n_train=50, n_val=10)"
   ]
  },
  {
   "cell_type": "code",
   "execution_count": 79,
   "metadata": {},
   "outputs": [
    {
     "data": {
      "text/plain": [
       "{('train', 'laughing'): 42.0,\n",
       " ('val', 'laughing'): 40.0,\n",
       " ('train', 'punching'): 57.99999999999999,\n",
       " ('val', 'punching'): 60.0}"
      ]
     },
     "execution_count": 79,
     "metadata": {},
     "output_type": "execute_result"
    }
   ],
   "source": [
    "scrapDataHelpers.classPercentages('scrap_data50/')"
   ]
  },
  {
   "cell_type": "code",
   "execution_count": null,
   "metadata": {},
   "outputs": [],
   "source": []
  }
 ],
 "metadata": {
  "kernelspec": {
   "display_name": "Python 3",
   "language": "python",
   "name": "python3"
  },
  "language_info": {
   "codemirror_mode": {
    "name": "ipython",
    "version": 3
   },
   "file_extension": ".py",
   "mimetype": "text/x-python",
   "name": "python",
   "nbconvert_exporter": "python",
   "pygments_lexer": "ipython3",
   "version": "3.6.5"
  }
 },
 "nbformat": 4,
 "nbformat_minor": 2
}
