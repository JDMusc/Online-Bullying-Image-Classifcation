{
 "cells": [
  {
   "cell_type": "code",
   "execution_count": 4,
   "metadata": {},
   "outputs": [],
   "source": [
    "import numpy as np\n",
    "import os\n",
    "\n",
    "from toolz import pipe as p\n",
    "import torch\n",
    "\n",
    "import shutil"
   ]
  },
  {
   "cell_type": "code",
   "execution_count": 2,
   "metadata": {},
   "outputs": [
    {
     "name": "stdout",
     "output_type": "stream",
     "text": [
      "\u001b[0m\u001b[01;34mgossiping\u001b[0m/  \u001b[01;34mlaughing\u001b[0m/     \u001b[01;34mpullinghair\u001b[0m/  \u001b[01;34mquarrel\u001b[0m/   \u001b[01;34mstabbing\u001b[0m/\r\n",
      "\u001b[01;34misolation\u001b[0m/  \u001b[01;34mnonbullying\u001b[0m/  \u001b[01;34mpunching\u001b[0m/     \u001b[01;34mslapping\u001b[0m/  \u001b[01;34mstrangle\u001b[0m/\r\n"
     ]
    }
   ],
   "source": [
    "ls image_data/"
   ]
  },
  {
   "cell_type": "code",
   "execution_count": 3,
   "metadata": {},
   "outputs": [],
   "source": [
    "def makeScrapData(classes, n_train = 30, n_val = 10):\n",
    "    fs = [os.path.join('image_data', c, f) \n",
    "          for c in classes\n",
    "          for f in p(os.path.join('image_data', c), os.listdir)]\n",
    "    \n",
    "    n_fs = n_train + n_val\n",
    "    fs = np.random.choice(fs, n_fs, replace = False)\n",
    "    \n",
    "    train_fs = np.random.choice(fs, n_train, replace = False)\n",
    "    val_fs = [f for f in fs if f not in train_fs]\n",
    "    \n",
    "    if os.path.exists('scrap_data'):\n",
    "        shutil.rmtree('scrap_data')\n",
    "        \n",
    "    os.mkdir('scrap_data')\n",
    "    \n",
    "    joinDirGen = lambda d: lambda f: os.path.join(d, f)\n",
    "    joinScrapDir = joinDirGen('scrap_data')\n",
    "    \n",
    "    train_val_fs = dict(train=train_fs, val=val_fs)\n",
    "    for tv in ('train', 'val'):\n",
    "        p(tv, joinScrapDir, os.mkdir)\n",
    "        \n",
    "        for c in classes:\n",
    "            p(c, joinDirGen(tv),  joinScrapDir, os.mkdir)    \n",
    "            \n",
    "        tv_fs = train_val_fs[tv]\n",
    "        for f in tv_fs:\n",
    "            f_class = ([c for c in classes if c in os.path.dirname(f)]).pop()\n",
    "            dest = p(f,\n",
    "                     os.path.basename,\n",
    "                     joinDirGen(f_class), \n",
    "                     joinDirGen(tv),\n",
    "                     joinScrapDir)\n",
    "            shutil.copyfile(f, dest)\n",
    "            \n",
    "    \n",
    "classes = ('laughing', 'pullinghair')\n",
    "makeScrapData(classes)"
   ]
  },
  {
   "cell_type": "code",
   "execution_count": null,
   "metadata": {},
   "outputs": [],
   "source": []
  }
 ],
 "metadata": {
  "kernelspec": {
   "display_name": "Python 3",
   "language": "python",
   "name": "python3"
  },
  "language_info": {
   "codemirror_mode": {
    "name": "ipython",
    "version": 3
   },
   "file_extension": ".py",
   "mimetype": "text/x-python",
   "name": "python",
   "nbconvert_exporter": "python",
   "pygments_lexer": "ipython3",
   "version": "3.6.5"
  }
 },
 "nbformat": 4,
 "nbformat_minor": 2
}
