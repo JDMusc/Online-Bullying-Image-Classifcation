{
 "cells": [
  {
   "cell_type": "code",
   "execution_count": 1,
   "metadata": {},
   "outputs": [],
   "source": [
    "from importlib import reload\n",
    "import os\n",
    "from toolz import pipe as p\n",
    "\n",
    "import scrapDataHelpers"
   ]
  },
  {
   "cell_type": "code",
   "execution_count": 26,
   "metadata": {},
   "outputs": [
    {
     "name": "stdout",
     "output_type": "stream",
     "text": [
      "\u001b[0m\u001b[01;34mgossiping\u001b[0m/  \u001b[01;34mlaughing\u001b[0m/     \u001b[01;34mpullinghair\u001b[0m/  \u001b[01;34mquarrel\u001b[0m/   \u001b[01;34mstabbing\u001b[0m/\r\n",
      "\u001b[01;34misolation\u001b[0m/  \u001b[01;34mnonbullying\u001b[0m/  \u001b[01;34mpunching\u001b[0m/     \u001b[01;34mslapping\u001b[0m/  \u001b[01;34mstrangle\u001b[0m/\r\n"
     ]
    }
   ],
   "source": [
    "ls image_data/"
   ]
  },
  {
   "cell_type": "code",
   "execution_count": 29,
   "metadata": {},
   "outputs": [
    {
     "data": {
      "text/plain": [
       "2522"
      ]
     },
     "execution_count": 29,
     "metadata": {},
     "output_type": "execute_result"
    }
   ],
   "source": [
    "sum(scrapDataHelpers.classPercentages('image_data')['count'].values())"
   ]
  },
  {
   "cell_type": "code",
   "execution_count": 31,
   "metadata": {},
   "outputs": [
    {
     "data": {
      "text/plain": [
       "0.7930214115781126"
      ]
     },
     "execution_count": 31,
     "metadata": {},
     "output_type": "execute_result"
    }
   ],
   "source": [
    "2000/2522"
   ]
  },
  {
   "cell_type": "code",
   "execution_count": 32,
   "metadata": {},
   "outputs": [],
   "source": [
    "len([f for d in os.listdir('image_data') for \n",
    "     f in p(os.path.join('image_data', d), os.listdir)])\n",
    "\n",
    "n_train = 2000\n",
    "n_val = None\n",
    "\n",
    "dest_dir = 'scrap_data' + str(n_train)"
   ]
  },
  {
   "cell_type": "code",
   "execution_count": 33,
   "metadata": {},
   "outputs": [
    {
     "data": {
      "text/plain": [
       "<module 'scrapDataHelpers' from '/home/john/projects/dl/scrapDataHelpers.py'>"
      ]
     },
     "execution_count": 33,
     "metadata": {},
     "output_type": "execute_result"
    }
   ],
   "source": [
    "reload(scrapDataHelpers)"
   ]
  },
  {
   "cell_type": "code",
   "execution_count": 34,
   "metadata": {},
   "outputs": [],
   "source": [
    "classes = os.listdir('image_data')\n",
    "scrapDataHelpers.makeScrapData(classes, n_train=n_train, n_val=n_val)"
   ]
  },
  {
   "cell_type": "code",
   "execution_count": 35,
   "metadata": {},
   "outputs": [
    {
     "data": {
      "text/plain": [
       "{'percent': {('train', 'strangle'): 0.14486215538847116,\n",
       "  ('val', 'strangle'): 0.1442125237191651,\n",
       "  ('train', 'quarrel'): 0.09924812030075188,\n",
       "  ('val', 'quarrel'): 0.09867172675521822,\n",
       "  ('train', 'gossiping'): 0.16390977443609023,\n",
       "  ('val', 'gossiping'): 0.16318785578747627,\n",
       "  ('train', 'pullinghair'): 0.10325814536340852,\n",
       "  ('val', 'pullinghair'): 0.10436432637571158,\n",
       "  ('train', 'nonbullying'): 0.039598997493734335,\n",
       "  ('val', 'nonbullying'): 0.03984819734345351,\n",
       "  ('train', 'isolation'): 0.10025062656641603,\n",
       "  ('val', 'isolation'): 0.10056925996204934,\n",
       "  ('train', 'slapping'): 0.08471177944862156,\n",
       "  ('val', 'slapping'): 0.08538899430740038,\n",
       "  ('train', 'laughing'): 0.06265664160401002,\n",
       "  ('val', 'laughing'): 0.06261859582542695,\n",
       "  ('train', 'punching'): 0.14536340852130325,\n",
       "  ('val', 'punching'): 0.1442125237191651,\n",
       "  ('train', 'stabbing'): 0.056140350877192984,\n",
       "  ('val', 'stabbing'): 0.056925996204933584},\n",
       " 'count': {('train', 'strangle'): 289,\n",
       "  ('val', 'strangle'): 76,\n",
       "  ('train', 'quarrel'): 198,\n",
       "  ('val', 'quarrel'): 52,\n",
       "  ('train', 'gossiping'): 327,\n",
       "  ('val', 'gossiping'): 86,\n",
       "  ('train', 'pullinghair'): 206,\n",
       "  ('val', 'pullinghair'): 55,\n",
       "  ('train', 'nonbullying'): 79,\n",
       "  ('val', 'nonbullying'): 21,\n",
       "  ('train', 'isolation'): 200,\n",
       "  ('val', 'isolation'): 53,\n",
       "  ('train', 'slapping'): 169,\n",
       "  ('val', 'slapping'): 45,\n",
       "  ('train', 'laughing'): 125,\n",
       "  ('val', 'laughing'): 33,\n",
       "  ('train', 'punching'): 290,\n",
       "  ('val', 'punching'): 76,\n",
       "  ('train', 'stabbing'): 112,\n",
       "  ('val', 'stabbing'): 30}}"
      ]
     },
     "execution_count": 35,
     "metadata": {},
     "output_type": "execute_result"
    }
   ],
   "source": [
    "scrapDataHelpers.classPercentages(dest_dir)"
   ]
  },
  {
   "cell_type": "markdown",
   "metadata": {},
   "source": [
    "# Just try 2 classes"
   ]
  },
  {
   "cell_type": "code",
   "execution_count": 93,
   "metadata": {},
   "outputs": [],
   "source": [
    "scrapDataHelpers.makeScrapData(['laughing', 'punching'], n_train=50, n_val=10)"
   ]
  },
  {
   "cell_type": "code",
   "execution_count": 94,
   "metadata": {},
   "outputs": [
    {
     "data": {
      "text/plain": [
       "({('train', 'laughing'): 0.3015267175572519,\n",
       "  ('val', 'laughing'): 0.29411764705882354,\n",
       "  ('train', 'punching'): 0.6984732824427481,\n",
       "  ('val', 'punching'): 0.7058823529411765},\n",
       " {('train', 'laughing'): 79,\n",
       "  ('val', 'laughing'): 15,\n",
       "  ('train', 'punching'): 183,\n",
       "  ('val', 'punching'): 36})"
      ]
     },
     "execution_count": 94,
     "metadata": {},
     "output_type": "execute_result"
    }
   ],
   "source": [
    "scrapDataHelpers.classPercentages('scrap_data50/')"
   ]
  },
  {
   "cell_type": "code",
   "execution_count": 95,
   "metadata": {},
   "outputs": [
    {
     "data": {
      "text/plain": [
       "({'laughing': 158, 'punching': 366},\n",
       " {'laughing': 30.15267175572519, 'punching': 69.8473282442748})"
      ]
     },
     "execution_count": 95,
     "metadata": {},
     "output_type": "execute_result"
    }
   ],
   "source": [
    "scrapDataHelpers.classPercentages('image_data', classes = ['laughing', 'punching'])"
   ]
  },
  {
   "cell_type": "code",
   "execution_count": null,
   "metadata": {},
   "outputs": [],
   "source": []
  }
 ],
 "metadata": {
  "kernelspec": {
   "display_name": "Python 3",
   "language": "python",
   "name": "python3"
  },
  "language_info": {
   "codemirror_mode": {
    "name": "ipython",
    "version": 3
   },
   "file_extension": ".py",
   "mimetype": "text/x-python",
   "name": "python",
   "nbconvert_exporter": "python",
   "pygments_lexer": "ipython3",
   "version": "3.6.5"
  }
 },
 "nbformat": 4,
 "nbformat_minor": 2
}
