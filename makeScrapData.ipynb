{
 "cells": [
  {
   "cell_type": "code",
   "execution_count": 8,
   "metadata": {},
   "outputs": [],
   "source": [
    "from importlib import reload\n",
    "import os\n",
    "from toolz import pipe as p\n",
    "\n",
    "import scrapDataHelpers"
   ]
  },
  {
   "cell_type": "code",
   "execution_count": 9,
   "metadata": {},
   "outputs": [
    {
     "name": "stdout",
     "output_type": "stream",
     "text": [
      "\u001b[0m\u001b[01;34mgossiping\u001b[0m/  \u001b[01;34mlaughing\u001b[0m/     \u001b[01;34mpullinghair\u001b[0m/  \u001b[01;34mquarrel\u001b[0m/   \u001b[01;34mstabbing\u001b[0m/\r\n",
      "\u001b[01;34misolation\u001b[0m/  \u001b[01;34mnonbullying\u001b[0m/  \u001b[01;34mpunching\u001b[0m/     \u001b[01;34mslapping\u001b[0m/  \u001b[01;34mstrangle\u001b[0m/\r\n"
     ]
    }
   ],
   "source": [
    "ls image_data/"
   ]
  },
  {
   "cell_type": "code",
   "execution_count": 13,
   "metadata": {},
   "outputs": [],
   "source": [
    "reload(scrapDataHelpers)\n",
    "\n",
    "classes = ('laughing', 'pullinghair', 'gossiping')\n",
    "scrapDataHelpers.makeScrapData(classes, n_train=80, n_val=20)"
   ]
  },
  {
   "cell_type": "code",
   "execution_count": 20,
   "metadata": {},
   "outputs": [
    {
     "data": {
      "text/plain": [
       "{'train/laughing': 13,\n",
       " 'train/pullinghair': 26,\n",
       " 'train/gossiping': 41,\n",
       " 'val/laughing': 6,\n",
       " 'val/pullinghair': 5,\n",
       " 'val/gossiping': 9}"
      ]
     },
     "execution_count": 20,
     "metadata": {},
     "output_type": "execute_result"
    }
   ],
   "source": [
    "xs = ('train', 'val')\n",
    "\n",
    "folders = [os.path.join('scrap_data', x, c) for x in xs\n",
    "          for c in classes]\n",
    "\n",
    "{f.replace('scrap_data/', ''): p(f, os.listdir, len) for f in folders}"
   ]
  },
  {
   "cell_type": "code",
   "execution_count": null,
   "metadata": {},
   "outputs": [],
   "source": []
  }
 ],
 "metadata": {
  "kernelspec": {
   "display_name": "Python 3",
   "language": "python",
   "name": "python3"
  },
  "language_info": {
   "codemirror_mode": {
    "name": "ipython",
    "version": 3
   },
   "file_extension": ".py",
   "mimetype": "text/x-python",
   "name": "python",
   "nbconvert_exporter": "python",
   "pygments_lexer": "ipython3",
   "version": "3.6.5"
  }
 },
 "nbformat": 4,
 "nbformat_minor": 2
}
