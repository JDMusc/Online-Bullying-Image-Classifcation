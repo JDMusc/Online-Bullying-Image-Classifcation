{
 "cells": [
  {
   "cell_type": "code",
   "execution_count": 8,
   "metadata": {},
   "outputs": [],
   "source": [
    "from importlib import reload\n",
    "import os\n",
    "from toolz import pipe as p\n",
    "\n",
    "import scrapDataHelpers"
   ]
  },
  {
   "cell_type": "code",
   "execution_count": 23,
   "metadata": {},
   "outputs": [
    {
     "name": "stdout",
     "output_type": "stream",
     "text": [
      "\u001b[0m\u001b[01;34mgossiping\u001b[0m/  \u001b[01;34mlaughing\u001b[0m/     \u001b[01;34mpullinghair\u001b[0m/  \u001b[01;34mquarrel\u001b[0m/   \u001b[01;34mstabbing\u001b[0m/\r\n",
      "\u001b[01;34misolation\u001b[0m/  \u001b[01;34mnonbullying\u001b[0m/  \u001b[01;34mpunching\u001b[0m/     \u001b[01;34mslapping\u001b[0m/  \u001b[01;34mstrangle\u001b[0m/\r\n"
     ]
    }
   ],
   "source": [
    "ls image_data/"
   ]
  },
  {
   "cell_type": "code",
   "execution_count": 29,
   "metadata": {},
   "outputs": [],
   "source": [
    "len([f for d in os.listdir('image_data') for \n",
    "     f in p(os.path.join('image_data', d), os.listdir)])\n",
    "\n",
    "n_train = 1000\n",
    "n_val = 400"
   ]
  },
  {
   "cell_type": "code",
   "execution_count": 27,
   "metadata": {},
   "outputs": [],
   "source": [
    "reload(scrapDataHelpers)\n",
    "\n",
    "classes = os.listdir('image_data')\n",
    "scrapDataHelpers.makeScrapData(classes, n_train=1000, n_val=400)"
   ]
  },
  {
   "cell_type": "code",
   "execution_count": 46,
   "metadata": {},
   "outputs": [
    {
     "data": {
      "text/plain": [
       "{('train', 'strangle'): 12.7,\n",
       " ('val', 'strangle'): 16.25,\n",
       " ('train', 'quarrel'): 9.700000000000001,\n",
       " ('val', 'quarrel'): 9.5,\n",
       " ('train', 'gossiping'): 16.7,\n",
       " ('val', 'gossiping'): 15.0,\n",
       " ('train', 'pullinghair'): 10.5,\n",
       " ('val', 'pullinghair'): 9.75,\n",
       " ('train', 'nonbullying'): 4.6,\n",
       " ('val', 'nonbullying'): 3.25,\n",
       " ('train', 'isolation'): 7.9,\n",
       " ('val', 'isolation'): 12.75,\n",
       " ('train', 'slapping'): 9.2,\n",
       " ('val', 'slapping'): 8.5,\n",
       " ('train', 'laughing'): 7.9,\n",
       " ('val', 'laughing'): 5.75,\n",
       " ('train', 'punching'): 15.4,\n",
       " ('val', 'punching'): 11.25,\n",
       " ('train', 'stabbing'): 5.4,\n",
       " ('val', 'stabbing'): 8.0}"
      ]
     },
     "execution_count": 46,
     "metadata": {},
     "output_type": "execute_result"
    }
   ],
   "source": [
    "xs = ('train', 'val')\n",
    "\n",
    "folderName = lambda x, c: os.path.join('scrap_data', x, c)\n",
    "\n",
    "folders = {(x,c):os.path.join('scrap_data', x, c) for x in xs\n",
    "          for c in classes}\n",
    "\n",
    "percentX = lambda x, c: p(folders[x,c], \n",
    "                          os.listdir, \n",
    "                          len)/(n_train if x == 'train' else n_val)*100\n",
    "{(x, c): percentX(x,c) for c in classes for  x in xs}"
   ]
  },
  {
   "cell_type": "code",
   "execution_count": null,
   "metadata": {},
   "outputs": [],
   "source": []
  }
 ],
 "metadata": {
  "kernelspec": {
   "display_name": "Python 3",
   "language": "python",
   "name": "python3"
  },
  "language_info": {
   "codemirror_mode": {
    "name": "ipython",
    "version": 3
   },
   "file_extension": ".py",
   "mimetype": "text/x-python",
   "name": "python",
   "nbconvert_exporter": "python",
   "pygments_lexer": "ipython3",
   "version": "3.6.5"
  }
 },
 "nbformat": 4,
 "nbformat_minor": 2
}
